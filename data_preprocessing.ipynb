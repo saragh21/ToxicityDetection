{
 "cells": [
  {
   "cell_type": "code",
   "execution_count": 1,
   "metadata": {},
   "outputs": [
    {
     "name": "stderr",
     "output_type": "stream",
     "text": [
      "/home/ghorbas1/hpc-examples/slurm/snlp/codes/tox_env/lib64/python3.9/site-packages/networkx/utils/backends.py:135: RuntimeWarning: networkx backend defined more than once: nx-loopback\n",
      "  backends.update(_get_backends(\"networkx.backends\"))\n",
      "[nltk_data] Downloading package stopwords to\n",
      "[nltk_data]     /home/ghorbas1/nltk_data...\n",
      "[nltk_data]   Package stopwords is already up-to-date!\n",
      "[nltk_data] Downloading package punkt to /home/ghorbas1/nltk_data...\n",
      "[nltk_data]   Package punkt is already up-to-date!\n"
     ]
    }
   ],
   "source": [
    "import numpy as np\n",
    "import pandas as pd\n",
    "import os\n",
    "import sys\n",
    "import re\n",
    "import stanza\n",
    "import nltk\n",
    "from nltk.corpus import stopwords\n",
    "from joblib import Parallel, delayed  # Parallel processing\n",
    "\n",
    "from tqdm import tqdm\n",
    "\n",
    "nltk.download('stopwords')\n",
    "nltk.download('punkt')\n",
    "sys.path.append(os.path.join(os.path.dirname(os.getcwd()), 'src'))"
   ]
  },
  {
   "cell_type": "markdown",
   "metadata": {},
   "source": [
    "### Load the dataset"
   ]
  },
  {
   "cell_type": "code",
   "execution_count": 4,
   "metadata": {},
   "outputs": [],
   "source": [
    "root_path = os.path.dirname(os.getcwd())\n",
    "data_path = os.path.join(root_path, 'Data')\n",
    "train_set = pd.read_csv(os.path.join(data_path, 'train_2025.csv'), header=0, index_col='id')\n",
    "train_set\n",
    "nlp = stanza.Pipeline(lang='en', processors='tokenize,lemma', use_gpu=True, verbose=False)"
   ]
  },
  {
   "cell_type": "markdown",
   "metadata": {},
   "source": [
    "# Tokenize and Lemmatize "
   ]
  },
  {
   "cell_type": "code",
   "execution_count": 5,
   "metadata": {},
   "outputs": [],
   "source": [
    " \n",
    "\n",
    "def tokenize_and_normalize(text, stopwords):\n",
    "    \"\"\"Tokenizes, lemmatizes, lowercases and removes stop words.\n",
    "    \n",
    "    this function takes in a path to a song, reads the song file,\n",
    "    tokenizes it into words, then lemmatizes and lowercases these words.\n",
    "    finally, stopwords given to the function are removed from the list of song lemmas\n",
    "    \n",
    "    Parameters\n",
    "    ----------\n",
    "    file_name : str\n",
    "        a path to a text file\n",
    "    stopwords : list of strings\n",
    "        stopwords that should be removed\n",
    "    \n",
    "    Returns\n",
    "    -------\n",
    "    normalized_song : list of strings\n",
    "        a song represented as a list of its lemmas\n",
    "    \"\"\"\n",
    "    \n",
    "    \n",
    "    \n",
    "    # YOUR CODE HERE\n",
    "    text = re.sub(r'[^\\w\\s]', '', text)\n",
    "    result = [word.lemma.lower()\n",
    "               for token in nlp(text).iter_tokens()\n",
    "               for word in token.words\n",
    "               if word.lemma.lower() not in stopwords]\n",
    "    #raise NotImplementedError()\n",
    "    \n",
    "    return result\n",
    "    \n",
    " \n"
   ]
  },
  {
   "cell_type": "code",
   "execution_count": 6,
   "metadata": {
    "scrolled": true
   },
   "outputs": [
    {
     "name": "stderr",
     "output_type": "stream",
     "text": [
      "100%|██████████| 98637/98637 [36:42<00:00, 44.79it/s]  \n"
     ]
    }
   ],
   "source": [
    "stop_words = set(stopwords.words('english'))\n",
    "completed_preprocessed_text = []\n",
    "for sentence in tqdm(train_set.text):\n",
    "    token_list = tokenize_and_normalize(sentence, stop_words)\n",
    "    if len(token_list) > 0:\n",
    "        # preprocessed_sentence = token_list[0]\n",
    "        # for token in token_list[1:]:\n",
    "        #     preprocessed_sentence += (' ' + token)\n",
    "        preprocessed_sentence = \" \".join(token_list)\n",
    "    else:\n",
    "        preprocessed_sentence = ''\n",
    "    completed_preprocessed_text.append(preprocessed_sentence)\n",
    "train_set.insert(1, 'preprocessed_text', completed_preprocessed_text)\n"
   ]
  },
  {
   "cell_type": "code",
   "execution_count": 8,
   "metadata": {},
   "outputs": [
    {
     "data": {
      "text/html": [
       "<div>\n",
       "<style scoped>\n",
       "    .dataframe tbody tr th:only-of-type {\n",
       "        vertical-align: middle;\n",
       "    }\n",
       "\n",
       "    .dataframe tbody tr th {\n",
       "        vertical-align: top;\n",
       "    }\n",
       "\n",
       "    .dataframe thead th {\n",
       "        text-align: right;\n",
       "    }\n",
       "</style>\n",
       "<table border=\"1\" class=\"dataframe\">\n",
       "  <thead>\n",
       "    <tr style=\"text-align: right;\">\n",
       "      <th></th>\n",
       "      <th>text</th>\n",
       "      <th>preprocessed_text</th>\n",
       "      <th>label</th>\n",
       "    </tr>\n",
       "    <tr>\n",
       "      <th>id</th>\n",
       "      <th></th>\n",
       "      <th></th>\n",
       "      <th></th>\n",
       "    </tr>\n",
       "  </thead>\n",
       "  <tbody>\n",
       "    <tr>\n",
       "      <th>eng_train0</th>\n",
       "      <td>I supported Barack Obama. I thought it was abs...</td>\n",
       "      <td>support barack obama think absurdity harassmen...</td>\n",
       "      <td>0</td>\n",
       "    </tr>\n",
       "    <tr>\n",
       "      <th>eng_train1</th>\n",
       "      <td>what to hell with that!</td>\n",
       "      <td>hell</td>\n",
       "      <td>1</td>\n",
       "    </tr>\n",
       "    <tr>\n",
       "      <th>eng_train2</th>\n",
       "      <td>and the stupidity of the haters continues, thi...</td>\n",
       "      <td>stupidity hater continue usual nothing make ra...</td>\n",
       "      <td>1</td>\n",
       "    </tr>\n",
       "    <tr>\n",
       "      <th>eng_train3</th>\n",
       "      <td>Alberta has been in debt under the Conservativ...</td>\n",
       "      <td>alberta debt conservatives ndp canadian federa...</td>\n",
       "      <td>0</td>\n",
       "    </tr>\n",
       "    <tr>\n",
       "      <th>eng_train4</th>\n",
       "      <td>The TV is in Channel Search mode, and I have p...</td>\n",
       "      <td>tv channel search mode put antenna wall right ...</td>\n",
       "      <td>0</td>\n",
       "    </tr>\n",
       "    <tr>\n",
       "      <th>...</th>\n",
       "      <td>...</td>\n",
       "      <td>...</td>\n",
       "      <td>...</td>\n",
       "    </tr>\n",
       "    <tr>\n",
       "      <th>eng_train98995</th>\n",
       "      <td>My bad for thinking you could get off your nea...</td>\n",
       "      <td>bad think could get neato gun soapbox waste ti...</td>\n",
       "      <td>1</td>\n",
       "    </tr>\n",
       "    <tr>\n",
       "      <th>eng_train98996</th>\n",
       "      <td>It's fixed now.  Jackman Wilson Editorial page...</td>\n",
       "      <td>'s fix jackman wilson editorial page editor re...</td>\n",
       "      <td>0</td>\n",
       "    </tr>\n",
       "    <tr>\n",
       "      <th>eng_train98997</th>\n",
       "      <td>Could certainly be inconvenient for consumers ...</td>\n",
       "      <td>could certainly inconvenient consumer hey isnt...</td>\n",
       "      <td>0</td>\n",
       "    </tr>\n",
       "    <tr>\n",
       "      <th>eng_train98998</th>\n",
       "      <td>It is sad that Hawaii has the lowest turnout. ...</td>\n",
       "      <td>sad hawaii low turnout hawaii first become sta...</td>\n",
       "      <td>0</td>\n",
       "    </tr>\n",
       "    <tr>\n",
       "      <th>eng_train98999</th>\n",
       "      <td>You don't now your cars or collector car value...</td>\n",
       "      <td>car collector car value either</td>\n",
       "      <td>0</td>\n",
       "    </tr>\n",
       "  </tbody>\n",
       "</table>\n",
       "<p>98637 rows × 3 columns</p>\n",
       "</div>"
      ],
      "text/plain": [
       "                                                             text  \\\n",
       "id                                                                  \n",
       "eng_train0      I supported Barack Obama. I thought it was abs...   \n",
       "eng_train1                                what to hell with that!   \n",
       "eng_train2      and the stupidity of the haters continues, thi...   \n",
       "eng_train3      Alberta has been in debt under the Conservativ...   \n",
       "eng_train4      The TV is in Channel Search mode, and I have p...   \n",
       "...                                                           ...   \n",
       "eng_train98995  My bad for thinking you could get off your nea...   \n",
       "eng_train98996  It's fixed now.  Jackman Wilson Editorial page...   \n",
       "eng_train98997  Could certainly be inconvenient for consumers ...   \n",
       "eng_train98998  It is sad that Hawaii has the lowest turnout. ...   \n",
       "eng_train98999  You don't now your cars or collector car value...   \n",
       "\n",
       "                                                preprocessed_text  label  \n",
       "id                                                                        \n",
       "eng_train0      support barack obama think absurdity harassmen...      0  \n",
       "eng_train1                                                   hell      1  \n",
       "eng_train2      stupidity hater continue usual nothing make ra...      1  \n",
       "eng_train3      alberta debt conservatives ndp canadian federa...      0  \n",
       "eng_train4      tv channel search mode put antenna wall right ...      0  \n",
       "...                                                           ...    ...  \n",
       "eng_train98995  bad think could get neato gun soapbox waste ti...      1  \n",
       "eng_train98996  's fix jackman wilson editorial page editor re...      0  \n",
       "eng_train98997  could certainly inconvenient consumer hey isnt...      0  \n",
       "eng_train98998  sad hawaii low turnout hawaii first become sta...      0  \n",
       "eng_train98999                     car collector car value either      0  \n",
       "\n",
       "[98637 rows x 3 columns]"
      ]
     },
     "execution_count": 8,
     "metadata": {},
     "output_type": "execute_result"
    }
   ],
   "source": [
    "# Save result as a new file to avoid re-normalize\n",
    "train_set.to_pickle(os.path.join(data_path, 'train_2025_tokenized.pkl'))\n",
    "train_set"
   ]
  },
  {
   "cell_type": "markdown",
   "metadata": {},
   "source": [
    "### "
   ]
  }
 ],
 "metadata": {
  "kernelspec": {
   "display_name": "Python (tox_env)",
   "language": "python",
   "name": "tox_env"
  },
  "language_info": {
   "codemirror_mode": {
    "name": "ipython",
    "version": 3
   },
   "file_extension": ".py",
   "mimetype": "text/x-python",
   "name": "python",
   "nbconvert_exporter": "python",
   "pygments_lexer": "ipython3",
   "version": "3.9.18"
  }
 },
 "nbformat": 4,
 "nbformat_minor": 4
}
